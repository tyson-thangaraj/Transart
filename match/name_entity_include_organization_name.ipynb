{
 "cells": [
  {
   "cell_type": "code",
   "execution_count": 7,
   "metadata": {
    "collapsed": true
   },
   "outputs": [],
   "source": [
    "from nltk import ne_chunk, pos_tag, word_tokenize\n",
    "from nltk.tree import Tree\n",
    "import nltk\n",
    "from sklearn.feature_extraction.text import TfidfVectorizer\n",
    "import numpy as np\n",
    "\n",
    "\n",
    "news=[{\"id\":1,\"content\":\"WASHINGTON Swedish furniture company IKEA Group [IKEA.UL] is recalling almost 36 million chests and dressers in the United States and Canada but said the products linked to the deaths of six children are safe when anchored to walls as instructed.\\n\\nThe recall covers six models of MALM chests or dressers manufactured from 2002 to 2016 and about 100 other families of chests or dressers that the U.S. Consumer Product Safety Commission said could topple over if not anchored securely to walls, posing a threat to children.\\n\\n\\\"It is simply too dangerous to have the recalled furniture in your home unanchored, especially if you have young children,\\\" CPSC Chairman Elliott Kaye said in a statement on Tuesday.\\n\\nTipped-over furniture or television sets kill a U.S. child every two weeks, he added.\\n\\nIKEA said that the recall was based on a standard applicable in North America for free-standing clothing storage units and that the products meet all mandatory stability requirements in Europe and other parts of the world.\\n\\n\\\"When attached to a wall the products are safe. We have had no other issues with that in any other country,\\\" said Kajsa Johansson, a spokeswoman for IKEA in Sweden.\\n\\nIKEA said it had no details on potential costs stemming from the recall.\\n\\nA recall summary from the company said that the chests and dressers are unstable if not properly anchored to a wall, posing a serious tip-over and entrapment hazard that could result in death or injury to children.\\n\\nTwo U.S. toddlers died in separate 2014 incidents when MALM chests fell on them. A 22-month-old boy was killed last year in a similar incident, which occurred after IKEA had announced a repair program including a free wall-anchoring kit.\\n\\nNone of the furnishings in the fatal incidents had been anchored to a wall.\\n\\nIKEA had received reports of 41 tip-over incidents involving non-MALM chests that caused 19 injuries and the deaths of three children from 1989 to 2007.\\n\\nAs part of the recall, IKEA is offering refunds or a free wall-anchoring kit.\\n\\nThe U.S. recall covers about 8 million MALM chests and dressers and 21 million other models of chests and dressers. About 6.6 million are being recalled in Canada.\\n\\nIkea has sold approximately 147.4 million chests of drawers globally since 1998.\\n\\n(Reporting by Ian Simpson in Washington DC and Mia Shanley in Stockholm; Editing by Dan Grebler and David Goodman)\"\n",
    "},{\"id\":2,\"content\":\"Photo\\n\\nIn a deal with federal regulators, Ikea announced Tuesday that it would recall 29 million chests and dressers in the United States after at least six toddlers were crushed to death in tip-over accidents.\\n\\nThe move by the Swedish company, the world’s largest furniture seller, represented a crucial victory for consumer advocates in a yearslong effort to hold it accountable for a growing death toll of young children dating to 1989.\\n\\nThe head of the Consumer Product Safety Commission issued a stark warning to owners of furniture included in the recall.\\n\\n“If you have or think you have one of these products, act immediately,” the commission’s chairman, Elliot F. Kaye, said in a statement. “It is simply too dangerous to have the recalled furniture in your home unanchored, especially if you have young children.”\\n\\nAlan M. Feldman, a Philadelphia lawyer who is representing three of the families of toddlers in lawsuits against Ikea, said he welcomed the recall, but wished it had been issued much sooner. (He also said that the commission on Tuesday failed to note the death of a 3-year-old girl that was blamed on Ikea furniture in 2005, raising the toll to at least seven).\\n\\nAdvertisement Continue reading the main story\\n\\n“I don’t think that we should forget that it took seven deaths and more than 70 injuries and an untold number of near-misses before Ikea was shamed into taking action,” Mr. Feldman said.\\n\\nLars Petersson, the president and chief executive of Ikea USA, said the recalled furniture was never intended to be free-standing, but rather secured to walls with provided straps, a step he called “an integral part of the assembly instructions.”\\n\\n“If you are assembling correctly, the product is actually a very safe product,” he said in an interview on Tuesday.\\n\\nMr. Petersson declined to comment on the lawsuits brought by families, which accuse the company of knowing about the deadly risks of its furniture and failing to do anything about it.\\n\\nGet the Morning Briefing by Email What you need to know to start your day, delivered to your inbox. Monday – Friday.\\n\\n“The death of a child is an incredible loss,” he said. “It should never happen. So our hearts go out to the families that have to go through this.”\\n\\nA child dies, on average, once every two weeks in accidents that involve the toppling of furniture or bulky television sets, according to the safety commission. Every year, about 38,000 people visit emergency rooms for injuries related to tip-over accidents, a majority involving children under 5.\\n\\nIn many cases, the children slide drawers out from a dresser and then try to climb them like stairs. In a moment, an everyday item becomes lethal.\\n\\nThe commission said all six of the children crushed to death by Ikea furniture were 3 years old or younger. It also received reports of 36 injuries to children, it said.\\n\\nAdvertisement Continue reading the main story\\n\\nIkea’s recall applies to eight million chests and drawers in the company’s popular Malm line, the style involved in each of the last three deaths from 2014 to 2016.\\n\\nThe latest case, in February, added new urgency to the recall campaign. According to police records obtained by Philly.com, a woman in Minnesota went into her toddler’s bedroom to check on him during a nap and found him crushed beneath a six-drawer Malm dresser. Emergency medical workers were unable to revive him.\\n\\nMost American furniture manufacturers adhere to voluntary safety standards, which ensure that a unit will not tip over when a drawer is extended and 50 pounds of weight is applied. The recall on Tuesday applies to all Ikea furniture that fails that test, the commission said.\\n\\nLast summer, Ikea offered free wall anchor kits to owners of its furniture, a step that consumer advocates dismissed as inadequate given that many consumers were unaware of the dangers posed by unsecured furniture.\\n\\nAs part of the agreement on Tuesday, Ikea agreed to pick up the recalled furniture from customers’ homes and issue a refund, or to install an anchor that secures them to the wall. It also applies to customers in Canada, where a 6.6 million units of the recalled furniture was sold.\\n\\nMr. Kaye, the safety commission chairman, said on Tuesday that he was encouraged by Ikea’s willingness make changes, adding, “That doesn’t exonerate them from the past, but it is, from a consumer-safety standpoint, a positive announcement.”\\n\\nAsked whether any other retailers were selling furniture that posed risks to children, he said\"}]\n",
    "\n",
    "\n",
    "contents=[]\n",
    "ID=[]\n",
    "j=0 #store tha value of the number of documents \n",
    "\n",
    "#Extract raw descriptions and the corresponding two class labels for those descriptions\n",
    "for item in news:\n",
    "    contents.append(item[\"content\"])\n",
    "    ID.append(item[\"id\"])\n",
    "    j=j+1\n",
    "\n",
    "def get_continuous_chunks(text):\n",
    "    chunked = ne_chunk(pos_tag(word_tokenize(text)))\n",
    "    prev = None\n",
    "    continuous_chunk = []\n",
    "    current_chunk = []\n",
    "\n",
    "    for i in chunked:\n",
    "        if type(i) == Tree:\n",
    "            current_chunk.append(\" \".join([token for token, pos in i.leaves()]))\n",
    "        elif current_chunk:\n",
    "            named_entity = \" \".join(current_chunk)\n",
    "            if named_entity not in continuous_chunk:\n",
    "                continuous_chunk.append(named_entity)\n",
    "                current_chunk = []\n",
    "        else:\n",
    "            continue\n",
    "\n",
    "    return continuous_chunk\n",
    "name1=get_continuous_chunks(contents[0])\n",
    "name2=get_continuous_chunks(contents[1])"
   ]
  },
  {
   "cell_type": "code",
   "execution_count": 8,
   "metadata": {
    "collapsed": false
   },
   "outputs": [
    {
     "name": "stdout",
     "output_type": "stream",
     "text": [
      "['U.S.', 'CPSC', 'Canada', 'Johansson', 'Sweden', 'Shanley', 'Stockholm', 'Ian', 'Europe', 'Simpson', 'Elliott', 'Group', 'Grebler', 'States', 'Kaye', 'David', 'Dan', 'Swedish', 'WASHINGTON', 'MALM', 'IKEA', 'North', 'Kajsa', 'Mia', 'Ikea', 'America', 'Goodman', 'United', 'Washington']\n",
      "['Malm', 'Product', 'Emergency', 'Mr.', 'Email', 'Canada', 'M.', 'Consumer', 'Photo', 'Philly.com', 'American', 'States', 'Feldman', 'Kaye', 'Philadelphia', 'Minnesota', 'USA', 'Commission', 'Swedish', 'Elliot', 'F.', 'Ikea', 'Safety', 'Alan', 'United', 'Lars', 'Petersson']\n"
     ]
    }
   ],
   "source": [
    "def split_name(namelist):\n",
    "    new_name=[]\n",
    "    for element in namelist:\n",
    "        parts=element.split( )\n",
    "        new_name.append(parts)\n",
    "    results_union = set().union(*new_name)\n",
    "    name_union=list(results_union)    \n",
    "    return name_union\n",
    "\n",
    "entities1=split_name(name1)\n",
    "entities2=split_name(name2)\n",
    "print(entities1)\n",
    "print(entities2)"
   ]
  },
  {
   "cell_type": "code",
   "execution_count": 9,
   "metadata": {
    "collapsed": false
   },
   "outputs": [
    {
     "name": "stdout",
     "output_type": "stream",
     "text": [
      "['U.S.', 'CPSC', 'Canada', 'Johansson', 'Sweden', 'Shanley', 'Stockholm', 'Ian', 'Europe', 'Simpson', 'Elliott', 'Group', 'Grebler', 'States', 'Kaye', 'David', 'Dan', 'Swedish', 'WASHINGTON', 'MALM', 'IKEA', 'North', 'Kajsa', 'Mia', 'Ikea', 'America', 'Goodman', 'United', 'Washington', 'Malm', 'Product', 'Emergency', 'Mr.', 'Email', 'M.', 'Consumer', 'Photo', 'Philly.com', 'American', 'Feldman', 'Philadelphia', 'Minnesota', 'USA', 'Commission', 'Elliot', 'F.', 'Safety', 'Alan', 'Lars', 'Petersson']\n"
     ]
    }
   ],
   "source": [
    "def union(a,b):\n",
    "    for e in b:\n",
    "        if e not in a:\n",
    "            a.append(e)           \n",
    "    return a       \n",
    "result=union(entities1,entities2) \n",
    "print(result)"
   ]
  },
  {
   "cell_type": "code",
   "execution_count": 10,
   "metadata": {
    "collapsed": false
   },
   "outputs": [
    {
     "name": "stdout",
     "output_type": "stream",
     "text": [
      "{'Malm': 0, 'Product': 1, 'Emergency': 0, 'Mr.': 0, 'CPSC': 1, 'Email': 0, 'Canada': 2, 'M.': 0, 'Sweden': 1, 'Shanley': 1, 'Consumer': 1, 'Group': 1, 'Stockholm': 1, 'Photo': 0, 'Ian': 1, 'Europe': 1, 'Philly.com': 0, 'U.S.': 4, 'Simpson': 1, 'Elliott': 1, 'American': 0, 'Grebler': 1, 'IKEA': 7, 'Feldman': 0, 'Commission': 1, 'Kajsa': 1, 'Kaye': 1, 'David': 1, 'Philadelphia': 0, 'MALM': 3, 'States': 1, 'Dan': 1, 'Minnesota': 0, 'USA': 0, 'Swedish': 1, 'Elliot': 0, 'F.': 0, 'WASHINGTON': 1, 'North': 1, 'Mia': 1, 'Ikea': 1, 'America': 1, 'Safety': 1, 'Goodman': 1, 'Alan': 0, 'United': 1, 'Lars': 0, 'Washington': 1, 'Petersson': 0, 'Johansson': 1}\n",
      "{'Malm': 2, 'Product': 1, 'Emergency': 1, 'Mr.': 3, 'CPSC': 0, 'Email': 1, 'Canada': 1, 'M.': 1, 'Sweden': 0, 'Shanley': 0, 'Consumer': 1, 'Group': 0, 'Stockholm': 0, 'Photo': 1, 'Ian': 0, 'Europe': 0, 'Philly.com': 1, 'U.S.': 0, 'Simpson': 0, 'Elliott': 0, 'American': 1, 'Grebler': 0, 'IKEA': 0, 'Feldman': 2, 'Commission': 1, 'Kajsa': 0, 'Kaye': 2, 'David': 0, 'Philadelphia': 1, 'MALM': 0, 'States': 1, 'Dan': 0, 'Minnesota': 1, 'USA': 1, 'Swedish': 1, 'Elliot': 1, 'F.': 1, 'WASHINGTON': 0, 'North': 0, 'Mia': 0, 'Ikea': 9, 'America': 0, 'Safety': 1, 'Goodman': 0, 'Alan': 1, 'United': 1, 'Lars': 1, 'Washington': 0, 'Petersson': 2, 'Johansson': 0}\n"
     ]
    }
   ],
   "source": [
    "def get_all_word_counts(wordunion,content):\n",
    "\n",
    "    tokens = nltk.word_tokenize(content)\n",
    "    words=[]\n",
    "    \n",
    "    for w in tokens:\n",
    "        words.append(w)\n",
    "    word_counts=dict((el,0) for el in wordunion)\n",
    "  \n",
    "    for word in words:\n",
    "        if word in word_counts:     #If not already there\n",
    "            word_counts[word]+=1          #Increment the count accordingly\n",
    "    return word_counts\n",
    "\n",
    "\n",
    "d1=get_all_word_counts(result,contents[0])\n",
    "d2=get_all_word_counts(result,contents[1])\n",
    "print(d1)\n",
    "print(d2)    "
   ]
  },
  {
   "cell_type": "code",
   "execution_count": 11,
   "metadata": {
    "collapsed": false
   },
   "outputs": [
    {
     "name": "stdout",
     "output_type": "stream",
     "text": [
      "[[ 0.17156798]]\n"
     ]
    },
    {
     "name": "stderr",
     "output_type": "stream",
     "text": [
      "/Users/syt/anaconda/lib/python3.5/site-packages/sklearn/utils/validation.py:386: DeprecationWarning: Passing 1d arrays as data is deprecated in 0.17 and willraise ValueError in 0.19. Reshape your data either using X.reshape(-1, 1) if your data has a single feature or X.reshape(1, -1) if it contains a single sample.\n",
      "  DeprecationWarning)\n",
      "/Users/syt/anaconda/lib/python3.5/site-packages/sklearn/utils/validation.py:386: DeprecationWarning: Passing 1d arrays as data is deprecated in 0.17 and willraise ValueError in 0.19. Reshape your data either using X.reshape(-1, 1) if your data has a single feature or X.reshape(1, -1) if it contains a single sample.\n",
      "  DeprecationWarning)\n"
     ]
    }
   ],
   "source": [
    "from sklearn.metrics.pairwise import cosine_similarity\n",
    "print(cosine_similarity(list(d1.values()),list(d2.values()))) "
   ]
  }
 ],
 "metadata": {
  "kernelspec": {
   "display_name": "Python 3",
   "language": "python",
   "name": "python3"
  },
  "language_info": {
   "codemirror_mode": {
    "name": "ipython",
    "version": 3
   },
   "file_extension": ".py",
   "mimetype": "text/x-python",
   "name": "python",
   "nbconvert_exporter": "python",
   "pygments_lexer": "ipython3",
   "version": "3.5.1"
  }
 },
 "nbformat": 4,
 "nbformat_minor": 0
}
