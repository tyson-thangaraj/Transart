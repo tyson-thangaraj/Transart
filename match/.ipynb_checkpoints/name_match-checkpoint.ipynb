{
 "cells": [
  {
   "cell_type": "code",
   "execution_count": 1,
   "metadata": {
    "collapsed": false
   },
   "outputs": [
    {
     "ename": "LookupError",
     "evalue": "Could not find stanford-ner.jar jar file at /Users/syt/Desktop/stanford-ner/stanford-ner-2015-04-20/stanford-ner.jar",
     "output_type": "error",
     "traceback": [
      "\u001b[1;31m---------------------------------------------------------------------------\u001b[0m",
      "\u001b[1;31mLookupError\u001b[0m                               Traceback (most recent call last)",
      "\u001b[1;32m<ipython-input-1-c2bb94692f1c>\u001b[0m in \u001b[0;36m<module>\u001b[1;34m()\u001b[0m\n\u001b[0;32m     26\u001b[0m \u001b[0m_path_to_jar\u001b[0m \u001b[1;33m=\u001b[0m \u001b[1;34mr'/Users/syt/Desktop/stanford-ner/stanford-ner-2015-04-20/stanford-ner.jar'\u001b[0m\u001b[1;33m\u001b[0m\u001b[0m\n\u001b[0;32m     27\u001b[0m \u001b[1;31m# Then we initialize the NLTK's Stanford NER Tagger API with the DIRECT PATH to the model and .jar file.\u001b[0m\u001b[1;33m\u001b[0m\u001b[1;33m\u001b[0m\u001b[0m\n\u001b[1;32m---> 28\u001b[1;33m \u001b[0mst\u001b[0m \u001b[1;33m=\u001b[0m \u001b[0mStanfordNERTagger\u001b[0m\u001b[1;33m(\u001b[0m\u001b[0mmodel_filename\u001b[0m\u001b[1;33m=\u001b[0m\u001b[0m_model_filename\u001b[0m\u001b[1;33m,\u001b[0m \u001b[0mpath_to_jar\u001b[0m\u001b[1;33m=\u001b[0m\u001b[0m_path_to_jar\u001b[0m\u001b[1;33m)\u001b[0m\u001b[1;33m\u001b[0m\u001b[0m\n\u001b[0m\u001b[0;32m     29\u001b[0m \u001b[1;33m\u001b[0m\u001b[0m\n\u001b[0;32m     30\u001b[0m \u001b[1;31m#find name entity from certain text\u001b[0m\u001b[1;33m\u001b[0m\u001b[1;33m\u001b[0m\u001b[0m\n",
      "\u001b[1;32mF:\\work\\Anaconda3\\lib\\site-packages\\nltk\\tag\\stanford.py\u001b[0m in \u001b[0;36m__init__\u001b[1;34m(self, *args, **kwargs)\u001b[0m\n\u001b[0;32m    166\u001b[0m \u001b[1;33m\u001b[0m\u001b[0m\n\u001b[0;32m    167\u001b[0m     \u001b[1;32mdef\u001b[0m \u001b[0m__init__\u001b[0m\u001b[1;33m(\u001b[0m\u001b[0mself\u001b[0m\u001b[1;33m,\u001b[0m \u001b[1;33m*\u001b[0m\u001b[0margs\u001b[0m\u001b[1;33m,\u001b[0m \u001b[1;33m**\u001b[0m\u001b[0mkwargs\u001b[0m\u001b[1;33m)\u001b[0m\u001b[1;33m:\u001b[0m\u001b[1;33m\u001b[0m\u001b[0m\n\u001b[1;32m--> 168\u001b[1;33m         \u001b[0msuper\u001b[0m\u001b[1;33m(\u001b[0m\u001b[0mStanfordNERTagger\u001b[0m\u001b[1;33m,\u001b[0m \u001b[0mself\u001b[0m\u001b[1;33m)\u001b[0m\u001b[1;33m.\u001b[0m\u001b[0m__init__\u001b[0m\u001b[1;33m(\u001b[0m\u001b[1;33m*\u001b[0m\u001b[0margs\u001b[0m\u001b[1;33m,\u001b[0m \u001b[1;33m**\u001b[0m\u001b[0mkwargs\u001b[0m\u001b[1;33m)\u001b[0m\u001b[1;33m\u001b[0m\u001b[0m\n\u001b[0m\u001b[0;32m    169\u001b[0m \u001b[1;33m\u001b[0m\u001b[0m\n\u001b[0;32m    170\u001b[0m     \u001b[1;33m@\u001b[0m\u001b[0mproperty\u001b[0m\u001b[1;33m\u001b[0m\u001b[0m\n",
      "\u001b[1;32mF:\\work\\Anaconda3\\lib\\site-packages\\nltk\\tag\\stanford.py\u001b[0m in \u001b[0;36m__init__\u001b[1;34m(self, model_filename, path_to_jar, encoding, verbose, java_options)\u001b[0m\n\u001b[0;32m     51\u001b[0m                 \u001b[0mself\u001b[0m\u001b[1;33m.\u001b[0m\u001b[0m_JAR\u001b[0m\u001b[1;33m,\u001b[0m \u001b[0mpath_to_jar\u001b[0m\u001b[1;33m,\u001b[0m\u001b[1;33m\u001b[0m\u001b[0m\n\u001b[0;32m     52\u001b[0m                 \u001b[0msearchpath\u001b[0m\u001b[1;33m=\u001b[0m\u001b[1;33m(\u001b[0m\u001b[1;33m)\u001b[0m\u001b[1;33m,\u001b[0m \u001b[0murl\u001b[0m\u001b[1;33m=\u001b[0m\u001b[0m_stanford_url\u001b[0m\u001b[1;33m,\u001b[0m\u001b[1;33m\u001b[0m\u001b[0m\n\u001b[1;32m---> 53\u001b[1;33m                 verbose=verbose)\n\u001b[0m\u001b[0;32m     54\u001b[0m \u001b[1;33m\u001b[0m\u001b[0m\n\u001b[0;32m     55\u001b[0m         self._stanford_model = find_file(model_filename,\n",
      "\u001b[1;32mF:\\work\\Anaconda3\\lib\\site-packages\\nltk\\__init__.py\u001b[0m in \u001b[0;36mfind_jar\u001b[1;34m(name_pattern, path_to_jar, env_vars, searchpath, url, verbose, is_regex)\u001b[0m\n\u001b[0;32m    717\u001b[0m         searchpath=(), url=None, verbose=True, is_regex=False):\n\u001b[0;32m    718\u001b[0m     return next(find_jar_iter(name_pattern, path_to_jar, env_vars,\n\u001b[1;32m--> 719\u001b[1;33m                          searchpath, url, verbose, is_regex))\n\u001b[0m\u001b[0;32m    720\u001b[0m \u001b[1;33m\u001b[0m\u001b[0m\n\u001b[0;32m    721\u001b[0m \u001b[1;33m\u001b[0m\u001b[0m\n",
      "\u001b[1;32mF:\\work\\Anaconda3\\lib\\site-packages\\nltk\\__init__.py\u001b[0m in \u001b[0;36mfind_jar_iter\u001b[1;34m(name_pattern, path_to_jar, env_vars, searchpath, url, verbose, is_regex)\u001b[0m\n\u001b[0;32m    633\u001b[0m         \u001b[1;32melse\u001b[0m\u001b[1;33m:\u001b[0m\u001b[1;33m\u001b[0m\u001b[0m\n\u001b[0;32m    634\u001b[0m             raise LookupError('Could not find %s jar file at %s' %\n\u001b[1;32m--> 635\u001b[1;33m                             (name_pattern, path_to_jar))\n\u001b[0m\u001b[0;32m    636\u001b[0m \u001b[1;33m\u001b[0m\u001b[0m\n\u001b[0;32m    637\u001b[0m     \u001b[1;31m# Check environment variables\u001b[0m\u001b[1;33m\u001b[0m\u001b[1;33m\u001b[0m\u001b[0m\n",
      "\u001b[1;31mLookupError\u001b[0m: Could not find stanford-ner.jar jar file at /Users/syt/Desktop/stanford-ner/stanford-ner-2015-04-20/stanford-ner.jar"
     ]
    }
   ],
   "source": [
    "import nltk\n",
    "from nltk.tag.stanford import StanfordNERTagger\n",
    "import nltk\n",
    "from sklearn.feature_extraction.text import TfidfVectorizer\n",
    "import numpy as np\n",
    "\n",
    "\n",
    "news=[{\"id\":1,\"content\":\"WASHINGTON Swedish furniture company IKEA Group [IKEA.UL] is recalling almost 36 million chests and dressers in the United States and Canada but said the products linked to the deaths of six children are safe when anchored to walls as instructed.\\n\\nThe recall covers six models of MALM chests or dressers manufactured from 2002 to 2016 and about 100 other families of chests or dressers that the U.S. Consumer Product Safety Commission said could topple over if not anchored securely to walls, posing a threat to children.\\n\\n\\\"It is simply too dangerous to have the recalled furniture in your home unanchored, especially if you have young children,\\\" CPSC Chairman Elliott Kaye said in a statement on Tuesday.\\n\\nTipped-over furniture or television sets kill a U.S. child every two weeks, he added.\\n\\nIKEA said that the recall was based on a standard applicable in North America for free-standing clothing storage units and that the products meet all mandatory stability requirements in Europe and other parts of the world.\\n\\n\\\"When attached to a wall the products are safe. We have had no other issues with that in any other country,\\\" said Kajsa Johansson, a spokeswoman for IKEA in Sweden.\\n\\nIKEA said it had no details on potential costs stemming from the recall.\\n\\nA recall summary from the company said that the chests and dressers are unstable if not properly anchored to a wall, posing a serious tip-over and entrapment hazard that could result in death or injury to children.\\n\\nTwo U.S. toddlers died in separate 2014 incidents when MALM chests fell on them. A 22-month-old boy was killed last year in a similar incident, which occurred after IKEA had announced a repair program including a free wall-anchoring kit.\\n\\nNone of the furnishings in the fatal incidents had been anchored to a wall.\\n\\nIKEA had received reports of 41 tip-over incidents involving non-MALM chests that caused 19 injuries and the deaths of three children from 1989 to 2007.\\n\\nAs part of the recall, IKEA is offering refunds or a free wall-anchoring kit.\\n\\nThe U.S. recall covers about 8 million MALM chests and dressers and 21 million other models of chests and dressers. About 6.6 million are being recalled in Canada.\\n\\nIkea has sold approximately 147.4 million chests of drawers globally since 1998.\\n\\n(Reporting by Ian Simpson in Washington DC and Mia Shanley in Stockholm; Editing by Dan Grebler and David Goodman)\"\n",
    "},{\"id\":2,\"content\":\"Photo\\n\\nIn a deal with federal regulators, Ikea announced Tuesday that it would recall 29 million chests and dressers in the United States after at least six toddlers were crushed to death in tip-over accidents.\\n\\nThe move by the Swedish company, the world’s largest furniture seller, represented a crucial victory for consumer advocates in a yearslong effort to hold it accountable for a growing death toll of young children dating to 1989.\\n\\nThe head of the Consumer Product Safety Commission issued a stark warning to owners of furniture included in the recall.\\n\\n“If you have or think you have one of these products, act immediately,” the commission’s chairman, Elliot F. Kaye, said in a statement. “It is simply too dangerous to have the recalled furniture in your home unanchored, especially if you have young children.”\\n\\nAlan M. Feldman, a Philadelphia lawyer who is representing three of the families of toddlers in lawsuits against Ikea, said he welcomed the recall, but wished it had been issued much sooner. (He also said that the commission on Tuesday failed to note the death of a 3-year-old girl that was blamed on Ikea furniture in 2005, raising the toll to at least seven).\\n\\nAdvertisement Continue reading the main story\\n\\n“I don’t think that we should forget that it took seven deaths and more than 70 injuries and an untold number of near-misses before Ikea was shamed into taking action,” Mr. Feldman said.\\n\\nLars Petersson, the president and chief executive of Ikea USA, said the recalled furniture was never intended to be free-standing, but rather secured to walls with provided straps, a step he called “an integral part of the assembly instructions.”\\n\\n“If you are assembling correctly, the product is actually a very safe product,” he said in an interview on Tuesday.\\n\\nMr. Petersson declined to comment on the lawsuits brought by families, which accuse the company of knowing about the deadly risks of its furniture and failing to do anything about it.\\n\\nGet the Morning Briefing by Email What you need to know to start your day, delivered to your inbox. Monday – Friday.\\n\\n“The death of a child is an incredible loss,” he said. “It should never happen. So our hearts go out to the families that have to go through this.”\\n\\nA child dies, on average, once every two weeks in accidents that involve the toppling of furniture or bulky television sets, according to the safety commission. Every year, about 38,000 people visit emergency rooms for injuries related to tip-over accidents, a majority involving children under 5.\\n\\nIn many cases, the children slide drawers out from a dresser and then try to climb them like stairs. In a moment, an everyday item becomes lethal.\\n\\nThe commission said all six of the children crushed to death by Ikea furniture were 3 years old or younger. It also received reports of 36 injuries to children, it said.\\n\\nAdvertisement Continue reading the main story\\n\\nIkea’s recall applies to eight million chests and drawers in the company’s popular Malm line, the style involved in each of the last three deaths from 2014 to 2016.\\n\\nThe latest case, in February, added new urgency to the recall campaign. According to police records obtained by Philly.com, a woman in Minnesota went into her toddler’s bedroom to check on him during a nap and found him crushed beneath a six-drawer Malm dresser. Emergency medical workers were unable to revive him.\\n\\nMost American furniture manufacturers adhere to voluntary safety standards, which ensure that a unit will not tip over when a drawer is extended and 50 pounds of weight is applied. The recall on Tuesday applies to all Ikea furniture that fails that test, the commission said.\\n\\nLast summer, Ikea offered free wall anchor kits to owners of its furniture, a step that consumer advocates dismissed as inadequate given that many consumers were unaware of the dangers posed by unsecured furniture.\\n\\nAs part of the agreement on Tuesday, Ikea agreed to pick up the recalled furniture from customers’ homes and issue a refund, or to install an anchor that secures them to the wall. It also applies to customers in Canada, where a 6.6 million units of the recalled furniture was sold.\\n\\nMr. Kaye, the safety commission chairman, said on Tuesday that he was encouraged by Ikea’s willingness make changes, adding, “That doesn’t exonerate them from the past, but it is, from a consumer-safety standpoint, a positive announcement.”\\n\\nAsked whether any other retailers were selling furniture that posed risks to children, he said\"}]\n",
    "\n",
    "\n",
    "contents=[]\n",
    "ID=[]\n",
    "j=0 #store tha value of the number of documents \n",
    "\n",
    "#Extract raw descriptions and the corresponding two class labels for those descriptions\n",
    "for item in news:\n",
    "    contents.append(item[\"content\"])\n",
    "    ID.append(item[\"id\"])\n",
    "    j=j+1\n",
    "\n",
    "\n",
    "\n",
    "# First we set the direct path to the NER Tagger.\n",
    "_model_filename = r'/Users/syt/Desktop/stanford-ner/stanford-ner-2015-04-20/classifiers/english.all.3class.distsim.crf.ser.gz'\n",
    "_path_to_jar = r'/Users/syt/Desktop/stanford-ner/stanford-ner-2015-04-20/stanford-ner.jar'\n",
    "# Then we initialize the NLTK's Stanford NER Tagger API with the DIRECT PATH to the model and .jar file.\n",
    "st = StanfordNERTagger(model_filename=_model_filename, path_to_jar=_path_to_jar)\n",
    "\n",
    "#find name entity from certain text\n",
    "names1=[]\n",
    "names2=[]\n",
    "def find_name(text, name_set):\n",
    "    for sent in nltk.sent_tokenize(text):\n",
    "        tokens = nltk.tokenize.word_tokenize(sent)\n",
    "        tags = st.tag(tokens)\n",
    "        for tag in tags:\n",
    "            if tag[1]=='PERSON': name_set.append(tag[0])\n",
    "\n",
    "find_name(contents[0],names1)\n",
    "find_name(contents[1],names2)\n",
    "\n",
    "#merge two name sets\n",
    "def union(a,b):\n",
    "    for e in b:\n",
    "        if e not in a:\n",
    "            a.append(e)           \n",
    "    return a       \n",
    "name_union=union(names1,names2) \n",
    "print(name_union)\n",
    "\n"
   ]
  },
  {
   "cell_type": "code",
   "execution_count": 2,
   "metadata": {
    "collapsed": false
   },
   "outputs": [
    {
     "name": "stdout",
     "output_type": "stream",
     "text": [
      "{'Petersson': 0, 'Simpson': 1, 'Goodman': 1, 'Shanley': 1, 'Malm': 0, 'Elliot': 0, 'Alan': 0, 'F.': 0, 'children.”': 0, 'Kajsa': 1, 'Feldman': 0, 'Kaye': 1, 'Lars': 0, 'Ian': 1, 'Elliott': 1, 'Grebler': 1, 'Dan': 1, 'Mia': 1, 'M.': 0, 'Johansson': 1, 'David': 1}\n",
      "{'Petersson': 2, 'Simpson': 0, 'Goodman': 0, 'Shanley': 0, 'Malm': 2, 'Elliot': 1, 'Alan': 1, 'F.': 1, 'children.”': 1, 'Kajsa': 0, 'Feldman': 2, 'Kaye': 2, 'Lars': 1, 'Ian': 0, 'Elliott': 0, 'Grebler': 0, 'Dan': 0, 'Mia': 0, 'M.': 1, 'Johansson': 0, 'David': 0}\n"
     ]
    }
   ],
   "source": [
    "#count each name frequence \n",
    "def get_all_word_counts(wordunion,content):\n",
    "    tokens = nltk.word_tokenize(content)\n",
    "    words=[]    \n",
    "    for w in tokens:\n",
    "        words.append(w)\n",
    "        \n",
    "    word_counts=dict((el,0) for el in wordunion)  \n",
    "    for word in words:\n",
    "        if word in word_counts:     #If not already there\n",
    "            word_counts[word]+=1          #Increment the count accordingly\n",
    "    return word_counts\n",
    "\n",
    "d1=get_all_word_counts(name_union,contents[0])\n",
    "d2=get_all_word_counts(name_union,contents[1])\n",
    "print(d1)\n",
    "print(d2) "
   ]
  },
  {
   "cell_type": "code",
   "execution_count": 3,
   "metadata": {
    "collapsed": false
   },
   "outputs": [
    {
     "name": "stdout",
     "output_type": "stream",
     "text": [
      "[[ 0.12309149]]\n"
     ]
    },
    {
     "name": "stderr",
     "output_type": "stream",
     "text": [
      "/Users/syt/anaconda/lib/python3.5/site-packages/sklearn/utils/validation.py:386: DeprecationWarning: Passing 1d arrays as data is deprecated in 0.17 and willraise ValueError in 0.19. Reshape your data either using X.reshape(-1, 1) if your data has a single feature or X.reshape(1, -1) if it contains a single sample.\n",
      "  DeprecationWarning)\n",
      "/Users/syt/anaconda/lib/python3.5/site-packages/sklearn/utils/validation.py:386: DeprecationWarning: Passing 1d arrays as data is deprecated in 0.17 and willraise ValueError in 0.19. Reshape your data either using X.reshape(-1, 1) if your data has a single feature or X.reshape(1, -1) if it contains a single sample.\n",
      "  DeprecationWarning)\n"
     ]
    }
   ],
   "source": [
    "from sklearn.metrics.pairwise import cosine_similarity\n",
    "print(cosine_similarity(list(d1.values()),list(d2.values()))) "
   ]
  }
 ],
 "metadata": {
  "kernelspec": {
   "display_name": "Python 3",
   "language": "python",
   "name": "python3"
  },
  "language_info": {
   "codemirror_mode": {
    "name": "ipython",
    "version": 3
   },
   "file_extension": ".py",
   "mimetype": "text/x-python",
   "name": "python",
   "nbconvert_exporter": "python",
   "pygments_lexer": "ipython3",
   "version": "3.5.1"
  }
 },
 "nbformat": 4,
 "nbformat_minor": 0
}
