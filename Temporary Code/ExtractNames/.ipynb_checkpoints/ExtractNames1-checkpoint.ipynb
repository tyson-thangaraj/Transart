{
 "cells": [
  {
   "cell_type": "code",
   "execution_count": 9,
   "metadata": {
    "collapsed": false
   },
   "outputs": [
    {
     "ename": "SyntaxError",
     "evalue": "invalid syntax (<ipython-input-9-64cb298dba37>, line 6)",
     "output_type": "error",
     "traceback": [
      "\u001b[1;36m  File \u001b[1;32m\"<ipython-input-9-64cb298dba37>\"\u001b[1;36m, line \u001b[1;32m6\u001b[0m\n\u001b[1;33m    print chunk.node, ' '.join(c[0] for c in chunk.leaves())\u001b[0m\n\u001b[1;37m              ^\u001b[0m\n\u001b[1;31mSyntaxError\u001b[0m\u001b[1;31m:\u001b[0m invalid syntax\n"
     ]
    }
   ],
   "source": [
    "import nltk\n",
    "def extract_entities(text):\n",
    "    for sent in nltk.sent_tokenize(text):\n",
    "        for chunk in nltk.ne_chunk(nltk.pos_tag(nltk.word_tokenize(sent))):\n",
    "            if hasattr(chunk, 'node'):\n",
    "                print chunk.node, ' '.join(c[0] for c in chunk.leaves())\n",
    "                #print(chunk.label())\n",
    "                \n",
    "\n",
    "                \n",
    "s = \"Summer School of the Arts filling fast\\nWanganui people have the chance to learn the intricacies of decorative sugar art from one of the country\\xe2\\x80\\x99s top pastry chefs at Whanganui UCOL\\xe2\\x80\\x99s Summer School of the Arts in January.\\nTalented Chef de Partie, Adele Hingston will take time away from her duties at Christchurch\\xe2\\x80\\x99s Crowne Plaza to demonstrate the tricks and techniques of cake decorating including creating flower sprays and an introduction to royal icing.\\nDemand has been high for places in the Summer School of the Arts but there are still opportunities for budding artists to hone their skills in subjects as diverse as jewellery making, culinary sugar art and creative writing. \\n\\xe2\\x80\\x9cThe painting, pattern drafting and hot glass classes filled almost immediately,\\xe2\\x80\\x9d says Summer School Coordinator Katrina Langdon. \\xe2\\x80\\x9cHowever there are still places available in several of the programmes.\\xe2\\x80\\x9d\\nEighteen distinguished artists will each share their particular creative talents during week long programmes in painting, writing, drawing, jewellery, fibre arts, printmaking, photography, sculpture, glass, fashion and culinary arts.\\n\\xe2\\x80\\x9cI suggest anyone who is considering joining us for the Summer School should register now. January will be here before we know it,\\xe2\\x80\\x9d says Katrina.\\nWhanganui UCOL Summer School of the Arts runs from 10-16 January 2010. Enrolments are now open and brochures are available online at www.ucol.ac.nz or contact Katrina Langdon, K.Langdon@ucol.ac.nz, Ph 06 965 3801 ex 62000.\\nThe Whanganui Summer School of the Arts programme includes:\\nPainting: R ob McLeod - Marks, multiples and texture, Michael Shepherd - Oil painting, Julie Grieg \\xe2\\x80\\x93 Soft pastel painting.Drawing: Terrie Reddish \\xe2\\x80\\x93 Botanical Drawing.Printmaking: Ron Pokrasso \\xe2\\x80\\x93 Beyond Monotype, Stuart Duffin \\xe2\\x80\\x93 Mezzotint printmaking.Photography: Fleur Wickes \\xe2\\x80\\x93 The New Portrait, Rita Dibert \\xe2\\x80\\x93 Pinholes, Holga\\xe2\\x80\\x99s & Cyanotypes.Sculpture: Brent Sumner \\xe2\\x80\\x93 Darjit Sculpture, Michel Tuffery \\xe2\\x80\\x93 Sculptural Effigy.Glass: Jeff Burnette \\xe2\\x80\\x93 Hot glass techniques, Brock Craig \\xe2\\x80\\x93 Kiln-forming techniques.Jewellery: Craig Winton \\xe2\\x80\\x93 Jewellery Making-Tricks of the trade.Fashion: John Kite \\xe2\\x80\\x93 Pattern drafting for made to measure.Fibre and Fabric: Fiona Wright \\xe2\\x80\\x93 Felting - Text and texture, Deb Price \\xe2\\x80\\x93 Baskets and Beyond.Culinary Arts: Adele Hingston \\xe2\\x80\\x93 Sugar art.Literature: Frankie McMillan \\xe2\\x80\\x93 Creative writing.\\nENDS \\r \\r\"\n",
    "\n",
    "extract_entities(s)\n"
   ]
  },
  {
   "cell_type": "code",
   "execution_count": 5,
   "metadata": {
    "collapsed": false
   },
   "outputs": [
    {
     "ename": "TypeError",
     "evalue": "unsupported operand type(s) for |: 'str' and 'str'",
     "output_type": "error",
     "traceback": [
      "\u001b[1;31m---------------------------------------------------------------------------\u001b[0m",
      "\u001b[1;31mTypeError\u001b[0m                                 Traceback (most recent call last)",
      "\u001b[1;32m<ipython-input-5-349adda064af>\u001b[0m in \u001b[0;36m<module>\u001b[1;34m()\u001b[0m\n\u001b[0;32m     48\u001b[0m     \u001b[1;32mfor\u001b[0m \u001b[0mtag\u001b[0m \u001b[1;32min\u001b[0m \u001b[0mtags\u001b[0m\u001b[1;33m:\u001b[0m\u001b[1;33m\u001b[0m\u001b[0m\n\u001b[0;32m     49\u001b[0m         \u001b[1;31m#print(tag)\u001b[0m\u001b[1;33m\u001b[0m\u001b[1;33m\u001b[0m\u001b[0m\n\u001b[1;32m---> 50\u001b[1;33m         \u001b[1;32mif\u001b[0m \u001b[0mtag\u001b[0m\u001b[1;33m[\u001b[0m\u001b[1;36m1\u001b[0m\u001b[1;33m]\u001b[0m\u001b[1;33m==\u001b[0m\u001b[1;34m'PERSON'\u001b[0m\u001b[1;33m|\u001b[0m\u001b[1;34m'ORGANIZATION'\u001b[0m\u001b[1;33m:\u001b[0m \u001b[0mprint\u001b[0m\u001b[1;33m(\u001b[0m\u001b[0mtag\u001b[0m\u001b[1;33m)\u001b[0m\u001b[1;33m\u001b[0m\u001b[0m\n\u001b[0m",
      "\u001b[1;31mTypeError\u001b[0m: unsupported operand type(s) for |: 'str' and 'str'"
     ]
    }
   ],
   "source": [
    "import nltk\n",
    "# from nltk.tag.stanford import NERTagger\n",
    "\n",
    "# _model_filename = r'C:\\workspace\\GitHub\\Transart\\Temporary Code\\ExtractNames\\stanford-ner\\classifiers/english.all.3class.distsim.crf.ser.gz'\n",
    "# _path_to_jar = r'C:\\workspace\\GitHub\\Transart\\Temporary Code\\ExtractNames\\stanford-ner\\stanford-ner.jar'\n",
    "\n",
    "# #st = NERTagger('stanford-ner/all.3class.distsim.crf.ser.gz', 'stanford-ner/stanford-ner.jar')\n",
    "# st = NERTagger(_model_filename, _path_to_jar)\n",
    "\n",
    "\n",
    "# import urllib.request\n",
    "# import zipfile\n",
    "# urllib.request.urlretrieve(r'http://nlp.stanford.edu/software/stanford-ner-2015-04-20.zip', r'C:\\workspace\\GitHub\\Transart\\Temporary Code\\ExtractNames\\stanford-ner-2015-04-20.zip')\n",
    "# zfile = zipfile.ZipFile(r'C:\\workspace\\GitHub\\Transart\\Temporary Code\\ExtractNames\\stanford-ner-2015-04-20.zip')\n",
    "# zfile.extractall(r'C:\\workspace\\GitHub\\Transart\\Temporary Code\\ExtractNames\\stanford-ner')\n",
    "\n",
    "from nltk.tag.stanford import StanfordNERTagger\n",
    "# First we set the direct path to the NER Tagger.\n",
    "_model_filename = r'C:\\workspace\\GitHub\\Transart\\Temporary Code\\ExtractNames\\stanford-ner\\stanford-ner-2015-04-20\\classifiers\\english.all.3class.distsim.crf.ser.gz'\n",
    "_path_to_jar = r'C:\\workspace\\GitHub\\Transart\\Temporary Code\\ExtractNames\\stanford-ner\\stanford-ner-2015-04-20\\stanford-ner.jar'\n",
    "# Then we initialize the NLTK's Stanford NER Tagger API with the DIRECT PATH to the model and .jar file.\n",
    "st = StanfordNERTagger(model_filename=_model_filename, path_to_jar=_path_to_jar)\n",
    "\n",
    "\n",
    "\n",
    "text =  \"\"\"\n",
    "Some economists have responded positively to Bitcoin, including \n",
    "Francois R. Velde, senior economist of the Federal Reserve in Chicago \n",
    "who described it as \"an elegant solution to the problem of creating a \n",
    "digital currency.\" In November 2013 Richard Branson announced that \n",
    "Virgin Galactic would accept Bitcoin as payment, saying that he had invested \n",
    "in Bitcoin and found it \"fascinating how a whole new global currency \n",
    "has been created\", encouraging others to also invest in Bitcoin.\n",
    "Other economists commenting on Bitcoin have been critical. \n",
    "Economist Paul Krugman has suggested that the structure of the currency \n",
    "incentivizes hoarding and that its value derives from the expectation that \n",
    "others will accept it as payment. Economist Larry Summers has expressed \n",
    "a \"wait and see\" attitude when it comes to Bitcoin. Nick Colas, a market \n",
    "strategist for ConvergEx Group, has remarked on the effect of increasing \n",
    "use of Bitcoin and its restricted supply, noting, \"When incremental \n",
    "adoption meets relatively fixed supply, it should be no surprise that \n",
    "prices go up. And that’s exactly what is happening to BTC prices.\"\n",
    "\"\"\"\n",
    "\n",
    "for sent in nltk.sent_tokenize(text):\n",
    "    tokens = nltk.tokenize.word_tokenize(sent)\n",
    "    tags = st.tag(tokens)\n",
    "    for tag in tags:\n",
    "        #print(tag)\n",
    "        if tag[1]=='PERSON'|'ORGANIZATION': print(tag)"
   ]
  },
  {
   "cell_type": "code",
   "execution_count": null,
   "metadata": {
    "collapsed": true
   },
   "outputs": [],
   "source": []
  }
 ],
 "metadata": {
  "kernelspec": {
   "display_name": "Python 3",
   "language": "python",
   "name": "python3"
  },
  "language_info": {
   "codemirror_mode": {
    "name": "ipython",
    "version": 3
   },
   "file_extension": ".py",
   "mimetype": "text/x-python",
   "name": "python",
   "nbconvert_exporter": "python",
   "pygments_lexer": "ipython3",
   "version": "3.5.1"
  }
 },
 "nbformat": 4,
 "nbformat_minor": 0
}
